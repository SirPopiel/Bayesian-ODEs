{
 "cells": [
  {
   "cell_type": "code",
   "execution_count": 1,
   "metadata": {},
   "outputs": [],
   "source": [
    "import os\n",
    "import numpy as np\n",
    "import numpy.random as npr\n",
    "import matplotlib.pyplot as plt\n",
    "import pandas as pd\n",
    "from tqdm import tqdm\n",
    "\n",
    "from scipy.integrate import odeint\n",
    "\n",
    "%config InlineBackend.figure_format = 'retina' #set 'png' here when working on notebook\n",
    "%matplotlib inline"
   ]
  },
  {
   "cell_type": "code",
   "execution_count": 2,
   "metadata": {},
   "outputs": [],
   "source": [
    "import sys\n",
    "current_dir = os.path.dirname(os.getcwd())\n",
    "target_dir = os.path.sep.join(current_dir.split(os.path.sep)[:])\n",
    "sys.path.append(os.path.join(os.path.dirname(target_dir),'../eABCSMC'))\n",
    "sys.path.append(os.path.join(os.path.dirname(target_dir),'../Epidemics_response/Data'))\n",
    "sys.path.append(target_dir)"
   ]
  },
  {
   "cell_type": "code",
   "execution_count": 3,
   "metadata": {},
   "outputs": [],
   "source": [
    "def SIRD(z, t, S0, beta0, omega, gamma, mu):\n",
    "\n",
    "    I, R, D = z\n",
    "    \n",
    "    S = S0 - I - R - D\n",
    "    beta = beta0 * np.exp(-omega * t)\n",
    "    dS = - beta * I * S / S0\n",
    "    dI = beta * I * S / S0 - gamma * I - mu * I\n",
    "    dR = gamma * I \n",
    "    dD = mu * I\n",
    "\n",
    "    dzdt = [dI, dR, dD]\n",
    "    return dzdt\n",
    "\n",
    "def SIRD_weird(z, t, beta0, alpha0, alpha1, alpha2, alpha3, gamma, mu):\n",
    "\n",
    "    I, R, D = z\n",
    "    \n",
    "    S0 = (alpha0 + alpha1) * beta0 \n",
    "    S = S0 - I - R - D\n",
    "    beta = beta0* np.exp(-(alpha2+alpha3*beta0) * t)\n",
    "    #mu = mu0 * (1/ (t+1) +  3.77721160e-02)  #7.52593380e-05 : t = 50, #3.77721160e-02, t = 70, \n",
    "    dS = - beta * I * S / S0\n",
    "    dI = beta * I * S / S0 - gamma * I - mu * I\n",
    "    dR = gamma * I \n",
    "    dD = mu * I\n",
    "\n",
    "    dzdt = [dI, dR, dD]\n",
    "    return dzdt\n",
    "\n",
    "def SIR(z, t, S0, beta0, omega, gamma):\n",
    "\n",
    "    I, R = z\n",
    "    S = S0 - I - R \n",
    "    beta = beta0 * np.exp(-omega * t)\n",
    "    dS = - beta * I * S / N \n",
    "    dI = beta * I * S / N - gamma * I\n",
    "    dR = gamma * I \n",
    "\n",
    "    dzdt = [dI, dR]\n",
    "    return dzdt\n",
    "\n",
    "\n",
    "def plot_traj_SIRD(trajectories, width = 1.):\n",
    "    x2 = trajectories[:,0]\n",
    "    x3 = trajectories[:,1]\n",
    "    x4 = trajectories[:,2]\n",
    "\n",
    "    i = plt.plot(x2, linewidth = width, label = 'Infected')\n",
    "    r = plt.plot(x3, linewidth = width, label = 'Recovered')\n",
    "    d = plt.plot(x4, linewidth = width, label = 'Deceased')\n",
    "    \n",
    "    plt.legend(bbox_to_anchor=(1.05, 1), loc='upper left', borderaxespad=0.)\n",
    "    #plt.title('Real SIRD')\n",
    "    plt.title('nCov-19 data, Italy')\n",
    "    plt.tight_layout()\n",
    "    plt.savefig('sir.png', dpi=500)\n",
    "    \n",
    "    \n",
    "def plot_traj_gray_SIRD(trajectories, width = 1.):\n",
    "    x2 = trajectories[:,0]\n",
    "    x3 = trajectories[:,1]\n",
    "    x4 = trajectories[:,2]\n",
    "    i = plt.plot(x2, linewidth = width, color = 'lightgray')\n",
    "    r = plt.plot(x3, linewidth = width, color = 'lightgray')\n",
    "    d = plt.plot(x4, linewidth = width, color = 'lightgray')\n",
    "    \n",
    "    \n",
    "def plot_traj_SIRD_united(trajectories, width = 1.):\n",
    "    x2 = trajectories[:,0]\n",
    "    x3 = trajectories[:,1] + trajectories[:,2]\n",
    "    i = plt.plot(x2, linewidth = width, label = 'Infected')\n",
    "    r = plt.plot(x3, linewidth = width, label = 'Removed')\n",
    "    \n",
    "    plt.legend(bbox_to_anchor=(1.05, 1), loc='upper left', borderaxespad=0.)\n",
    "    plt.title('Real SIRD')\n",
    "    \n",
    "    \n",
    "def plot_traj_gray_SIRD_united(trajectories, width = 1.):\n",
    "    x2 = trajectories[:,0]\n",
    "    x3 = trajectories[:,1] + trajectories[:,2]\n",
    "    i = plt.plot(x2, linewidth = width, color = 'lightgray')\n",
    "    r = plt.plot(x3, linewidth = width, color = 'lightgray')\n",
    "    \n",
    "def plot_traj_SIR(trajectories, width = 1.):\n",
    "    x2 = trajectories[:,0]\n",
    "    x3 = trajectories[:,1]\n",
    "    i = plt.plot(x2, linewidth = width, label = 'Infected')\n",
    "    r = plt.plot(x3, linewidth = width, label = 'Removed')\n",
    "    plt.legend(bbox_to_anchor=(1.05, 1), loc='upper left', borderaxespad=0.)\n",
    "    plt.title('Real SIRD')\n",
    "\n",
    "    \n",
    "    \n",
    "def plot_traj_gray_SIR(trajectories, width = 1.):\n",
    "    x2 = trajectories[:,0]\n",
    "    x3 = trajectories[:,1]\n",
    "    i = plt.plot(x2, linewidth = width, color = 'lightgray')\n",
    "    r = plt.plot(x3, linewidth = width, color = 'lightgray')"
   ]
  },
  {
   "cell_type": "code",
   "execution_count": 7,
   "metadata": {},
   "outputs": [],
   "source": [
    "italy = pd.read_csv('../../Data/Sird_china.csv')"
   ]
  },
  {
   "cell_type": "code",
   "execution_count": null,
   "metadata": {},
   "outputs": [],
   "source": [
    "italy.fillna(0, inplace = True)"
   ]
  },
  {
   "cell_type": "code",
   "execution_count": null,
   "metadata": {},
   "outputs": [],
   "source": [
    "ext = 54\n",
    "eff = 54\n",
    "SIRD_flag = True\n",
    "italy = italy[:ext]\n",
    "italy.reset_index(inplace = True, drop = True)"
   ]
  },
  {
   "cell_type": "code",
   "execution_count": null,
   "metadata": {},
   "outputs": [],
   "source": [
    "data_size = italy.shape[0]\n",
    "\n",
    "batch_time = 20 # tempo delle batches\n",
    "niters = 500\n",
    "batch_size = data_size - batch_time - 1\n",
    "\n",
    "if SIRD_flag:\n",
    "    extended_y = []\n",
    "    for i in range(ext):\n",
    "        extended_y.append([italy.loc[i,'Infected'],italy.loc[i,'Recovered'],italy.loc[i,'Dead']])\n",
    "    extended_y = np.array(extended_y)\n",
    "else:\n",
    "    extended_y = []\n",
    "    for i in range(ext):\n",
    "        extended_y.append([italy.loc[i,'Infected'],italy.loc[i,'Recovered']+italy.loc[i,'Dead']])\n",
    "    extended_y = np.array(extended_y)\n",
    "\n",
    "nonorm_y = extended_y.copy()"
   ]
  },
  {
   "cell_type": "code",
   "execution_count": null,
   "metadata": {},
   "outputs": [],
   "source": [
    "italy = italy[:eff]\n",
    "italy.reset_index(inplace = True, drop = True)\n",
    "#italy"
   ]
  },
  {
   "cell_type": "code",
   "execution_count": null,
   "metadata": {},
   "outputs": [],
   "source": [
    "data_size = italy.shape[0]\n",
    "\n",
    "batch_time = 15  # tempo delle batches\n",
    "niters = 500\n",
    "batch_size = data_size - batch_time - 1\n",
    "\n",
    "if SIRD_flag:\n",
    "    true_y = []\n",
    "    for i in range(data_size):\n",
    "        true_y.append([italy.loc[i,'Infected'],italy.loc[i,'Recovered'],italy.loc[i,'Dead']])\n",
    "    true_y = np.array(true_y)\n",
    "else:\n",
    "    true_y = []\n",
    "    for i in range(data_size):\n",
    "        true_y.append([italy.loc[i,'Infected'],italy.loc[i,'Recovered']+italy.loc[i,'Dead']])\n",
    "    true_y = np.array(true_y)\n",
    "\n",
    "nonorm_y = true_y.copy()"
   ]
  },
  {
   "cell_type": "code",
   "execution_count": null,
   "metadata": {},
   "outputs": [],
   "source": [
    "italy['Date'] = pd.to_datetime(italy['Date'])\n",
    "\n",
    "t_grid = np.arange(data_size)"
   ]
  },
  {
   "cell_type": "code",
   "execution_count": null,
   "metadata": {},
   "outputs": [],
   "source": [
    "from matplotlib.pyplot import figure\n",
    "figure(num=None, figsize=(7, 4), dpi=150, facecolor='w', edgecolor='k')\n",
    "\n",
    "if SIRD_flag:\n",
    "    plot_traj_SIRD(true_y)\n",
    "else:\n",
    "    plot_traj_SIR(true_y)"
   ]
  },
  {
   "cell_type": "code",
   "execution_count": null,
   "metadata": {},
   "outputs": [],
   "source": [
    "from scipy import integrate, optimize\n",
    "\n",
    "if SIRD_flag:\n",
    "    true_yy = np.append(true_y[:,0],true_y[:,1])\n",
    "    true_yy = np.append(true_yy,true_y[:,2])\n",
    "\n",
    "    def fit_odeint_weird(x, beta0, alpha0, alpha1, alpha2, alpha3, gamma, mu):\n",
    "        fit = integrate.odeint(SIRD_weird, (503,17,28), x, args=(beta0, alpha0, alpha1, alpha2, alpha3, gamma, mu))\n",
    "        fit_p = np.append(fit[:,0],fit[:,1])\n",
    "        return np.append(fit_p,fit[:,2])\n",
    "    \n",
    "    #S0, alpha1, alpha2, alpha3, alpha4, gamma, mu\n",
    "    popt, pcov = optimize.curve_fit(fit_odeint_weird, xdata = t_grid, ydata =  true_yy, p0 = (0.1, 10000, 10000, 0.1, 0.1, 0, 0.1), bounds=(0, [1, np.inf, np.inf, 1, 1, 1, 1]))\n",
    "\n",
    "\n",
    "else:\n",
    "    true_yy = np.append(true_y[:,0],true_y[:,1])\n",
    "\n",
    "    def fit_odeint(x, S0, beta0, omega, gamma):\n",
    "        fit = integrate.odeint(SIR, (221,8), x, args=(S0,beta0, omega, gamma))\n",
    "        return np.append(fit[:,0],fit[:,1])\n",
    "\n",
    "    popt, pcov = optimize.curve_fit(fit_odeint, xdata = t_grid, ydata =  true_yy, p0 = (2000000, 0.5, 0.1, 0.1), bounds=(0, [61000000, 5, 1, 1]))\n",
    "    \n",
    "popt"
   ]
  },
  {
   "cell_type": "code",
   "execution_count": null,
   "metadata": {},
   "outputs": [],
   "source": [
    "if SIRD_flag:\n",
    "    simul_yy =  odeint(SIRD_weird, (221,1,7), np.arange(ext), args=tuple(np.reshape(popt,(1,-1))[0]))\n",
    "    plot_traj_SIRD(simul_yy)\n",
    "    plot_traj_gray_SIRD(extended_y)\n",
    "else:\n",
    "    simul_yy =  odeint(SIR, (221,8), np.arange(ext), args=tuple(np.reshape(popt,(1,-1))[0]))\n",
    "    plot_traj_SIR(simul_yy)\n",
    "    plot_traj_gray_SIR(extended_y)"
   ]
  },
  {
   "cell_type": "code",
   "execution_count": null,
   "metadata": {},
   "outputs": [],
   "source": [
    "extended_yy = np.append(extended_y[:,0],extended_y[:,1])\n",
    "extended_yy = np.append(extended_yy,extended_y[:,2])"
   ]
  },
  {
   "cell_type": "code",
   "execution_count": null,
   "metadata": {},
   "outputs": [],
   "source": [
    "residuals = np.ravel(extended_yy) - fit_odeint_weird(np.arange(ext), *popt)\n",
    "ss_res = np.sum(residuals**2)\n",
    "\n",
    "ss_tot = np.sum((np.ravel(extended_yy)-np.ravel(np.mean(extended_yy)))**2)\n",
    "\n",
    "r_squared = 1 - (ss_res / ss_tot)\n",
    "\n",
    "r_squared "
   ]
  },
  {
   "cell_type": "code",
   "execution_count": null,
   "metadata": {},
   "outputs": [],
   "source": []
  }
 ],
 "metadata": {
  "kernelspec": {
   "display_name": "tf",
   "language": "python",
   "name": "tf"
  },
  "language_info": {
   "codemirror_mode": {
    "name": "ipython",
    "version": 3
   },
   "file_extension": ".py",
   "mimetype": "text/x-python",
   "name": "python",
   "nbconvert_exporter": "python",
   "pygments_lexer": "ipython3",
   "version": "3.8.0"
  }
 },
 "nbformat": 4,
 "nbformat_minor": 4
}
